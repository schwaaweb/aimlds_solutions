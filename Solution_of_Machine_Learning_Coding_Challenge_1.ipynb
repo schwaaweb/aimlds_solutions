{
  "nbformat": 4,
  "nbformat_minor": 0,
  "metadata": {
    "colab": {
      "name": "Solution of Machine Learning Coding Challenge 1.ipynb",
      "version": "0.3.2",
      "provenance": [],
      "collapsed_sections": []
    },
    "kernelspec": {
      "name": "python3",
      "display_name": "Python 3"
    }
  },
  "cells": [
    {
      "cell_type": "markdown",
      "metadata": {
        "id": "view-in-github",
        "colab_type": "text"
      },
      "source": [
        "[View in Colaboratory](https://colab.research.google.com/github/schwaaweb/aimlds_solutions/blob/master/Solution_of_Machine_Learning_Coding_Challenge_1.ipynb)"
      ]
    },
    {
      "metadata": {
        "id": "TASE2aSJ3lIc",
        "colab_type": "text"
      },
      "cell_type": "markdown",
      "source": [
        "# Coding challenge\n",
        "\n",
        "A function in Python is of the form:"
      ]
    },
    {
      "metadata": {
        "id": "N-8GKe3X3mb9",
        "colab_type": "code",
        "colab": {}
      },
      "cell_type": "code",
      "source": [
        "def f(x):\n",
        "  return x**2"
      ],
      "execution_count": 0,
      "outputs": []
    },
    {
      "metadata": {
        "id": "e6MDZK7p3X8N",
        "colab_type": "text"
      },
      "cell_type": "markdown",
      "source": [
        "Create python definitions of the following five functions:\n",
        "\n",
        "$x^2$\n",
        "\n",
        "$x^3$\n",
        "\n",
        "$x^3 + x^2 - 5$\n",
        "\n",
        "$sin(x)$\n",
        "\n",
        "$cos(x)$\n",
        "\n"
      ]
    },
    {
      "metadata": {
        "id": "3EptVxnB3vUM",
        "colab_type": "code",
        "colab": {}
      },
      "cell_type": "code",
      "source": [
        "\n",
        "# LAMBDA SCHOOL\n",
        "#\n",
        "# MACHINE LEARNING\n",
        "#\n",
        "# MIT LICENSE\n",
        "\n",
        "import math\n",
        "\n",
        "def f(x):\n",
        "  return x**2\n",
        "def f_2(x):\n",
        "  return x**3\n",
        "def f_3(x):\n",
        "  return x**3 + x**2 - 5\n",
        "def f_4(x):\n",
        "  return math.sin(x)\n",
        "def f_5(x):\n",
        "  return math.cos(x)"
      ],
      "execution_count": 0,
      "outputs": []
    },
    {
      "metadata": {
        "id": "Vujamgd84xZ8",
        "colab_type": "text"
      },
      "cell_type": "markdown",
      "source": [
        "Call each of your functions and demonstrate their result:"
      ]
    },
    {
      "metadata": {
        "id": "WUpNee3241Mp",
        "colab_type": "code",
        "colab": {
          "base_uri": "https://localhost:8080/",
          "height": 103
        },
        "outputId": "c254cbd8-7087-4ff0-b2f9-5ed4c75c811a"
      },
      "cell_type": "code",
      "source": [
        "\"\"\"Call your functions here\"\"\"\n",
        "print(f(5))\n",
        "print(f_2(5))\n",
        "print(f_3(5))\n",
        "print(f_4(5))\n",
        "print(f_5(5))\n"
      ],
      "execution_count": 11,
      "outputs": [
        {
          "output_type": "stream",
          "text": [
            "25\n",
            "125\n",
            "145\n",
            "-0.9589242746631385\n",
            "0.28366218546322625\n"
          ],
          "name": "stdout"
        }
      ]
    },
    {
      "metadata": {
        "id": "MbrLehNS4D30",
        "colab_type": "text"
      },
      "cell_type": "markdown",
      "source": [
        "## Bonus challenge\n",
        "\n",
        "`numpy.vectorize` copies a function that takes a single value as argument and returns a function that takes an array of values as argument, calling the single argument version for each value in the array. Implement your own version of `numpy.vectorize`."
      ]
    },
    {
      "metadata": {
        "id": "9hncieec4fG8",
        "colab_type": "code",
        "colab": {
          "base_uri": "https://localhost:8080/",
          "height": 51
        },
        "outputId": "2af1faeb-b9d1-43bc-c56a-33f215c433ff"
      },
      "cell_type": "code",
      "source": [
        "def my_vectorize(x):\n",
        "  def vec_f(vals):\n",
        "    result = []\n",
        "    for a in vals:\n",
        "      result.append(x(a))\n",
        "    return result\n",
        "  return vec_f\n",
        "\n",
        "def my_vectorize2(x):\n",
        "  def vec_f(vals):\n",
        "    return list(map(x, vals))\n",
        "  return vec_f\n",
        "\n",
        "print(my_vectorize(f_2)([5,5,5,5]))\n",
        "\n",
        "print(my_vectorize2(f_2)([5,5,5,5]))"
      ],
      "execution_count": 21,
      "outputs": [
        {
          "output_type": "stream",
          "text": [
            "[125, 125, 125, 125]\n",
            "[125, 125, 125, 125]\n"
          ],
          "name": "stdout"
        }
      ]
    }
  ]
}